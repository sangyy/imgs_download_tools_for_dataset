{
 "cells": [
  {
   "cell_type": "markdown",
   "metadata": {},
   "source": [
    "Python 爬取图片"
   ]
  },
  {
   "cell_type": "code",
   "execution_count": null,
   "metadata": {},
   "outputs": [],
   "source": [
    "# import the necessary packages\n",
    "from imutils import paths\n",
    "import argparse\n",
    "import requests\n",
    "import cv2\n",
    "import os"
   ]
  },
  {
   "cell_type": "code",
   "execution_count": null,
   "metadata": {},
   "outputs": [],
   "source": [
    "# construct the argument parse and parse the arguments\n",
    "ap = argparse.ArgumentParser()\n",
    "ap.add_argument(\"-u\", \"--urls\", required=True,\n",
    "    help=\"path to file containing image URLs\")    # 设置刚刚保存的urls.txt路径\n",
    "ap.add_argument(\"-o\", \"--output\", required=True,\n",
    "    help=\"path to output directory of images\")    # 设置图片保存的路径\n",
    "args = vars(ap.parse_args())\n",
    "# grab the list of URLs from the input file, then initialize the\n",
    "# total number of images downloaded thus far\n",
    "rows = open(args[\"urls\"]).read().strip().split(\"\\n\")\n",
    "total = 0"
   ]
  },
  {
   "cell_type": "code",
   "execution_count": null,
   "metadata": {},
   "outputs": [],
   "source": [
    "# loop the URLs\n",
    "for url in rows:\n",
    "    try:\n",
    "        # try to download the image\n",
    "        r = requests.get(url, timeout=60)\n",
    "        # save the image to disk\n",
    "        p = os.path.sep.join([args[\"output\"], \"{}.jpg\".format(\n",
    "            str(total).zfill(8))])\n",
    "        f = open(p, \"wb\")\n",
    "        f.write(r.content)\n",
    "        f.close()\n",
    "        # update the counter\n",
    "        print(\"[INFO] downloaded: {}\".format(p))\n",
    "        total += 1\n",
    "    # handle if any exceptions are thrown during the download process\n",
    "    except:\n",
    "        print(\"[INFO] error downloading {}...skipping\".format(p))"
   ]
  },
  {
   "cell_type": "code",
   "execution_count": null,
   "metadata": {},
   "outputs": [],
   "source": [
    "# loop over the image paths we just downloaded\n",
    "for imagePath in paths.list_images(args[\"output\"]):\n",
    "    # initialize if the image should be deleted or not\n",
    "    delete = False\n",
    "    # try to load the image\n",
    "    try:\n",
    "        image = cv2.imread(imagePath)\n",
    "        # if the image is `None` then we could not properly load it\n",
    "        # from disk, so delete it\n",
    "        if image is None:\n",
    "            delete = True\n",
    "    # if OpenCV cannot load the image then the image is likely\n",
    "    # corrupt so we should delete it\n",
    "    except:\n",
    "        print(\"Except\")\n",
    "        delete = True\n",
    "    # check to see if the image should be deleted\n",
    "    if delete:\n",
    "        print(\"[INFO] deleting {}\".format(imagePath))\n",
    "        os.remove(imagePath)"
   ]
  }
 ],
 "metadata": {
  "kernelspec": {
   "display_name": "Python 3",
   "language": "python",
   "name": "python3"
  },
  "language_info": {
   "codemirror_mode": {
    "name": "ipython",
    "version": 3
   },
   "file_extension": ".py",
   "mimetype": "text/x-python",
   "name": "python",
   "nbconvert_exporter": "python",
   "pygments_lexer": "ipython3",
   "version": "3.6.10"
  }
 },
 "nbformat": 4,
 "nbformat_minor": 4
}
